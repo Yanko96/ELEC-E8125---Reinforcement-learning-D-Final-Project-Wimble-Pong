{
 "cells": [
  {
   "cell_type": "code",
   "execution_count": 2,
   "metadata": {},
   "outputs": [],
   "source": [
    "import torch\n",
    "import torch.nn as nn\n",
    "import numpy as np\n",
    "from torch.utils.data import Dataset, DataLoader\n",
    "from torchvision import transforms, utils\n",
    "from skimage import io\n",
    "import os"
   ]
  },
  {
   "cell_type": "code",
   "execution_count": 3,
   "metadata": {},
   "outputs": [],
   "source": [
    "import torch\n",
    "import torch.nn as nn\n",
    "import torch.utils.data\n",
    "import torch.nn.functional as F\n",
    "\n",
    "\n",
    "class ResDown(nn.Module):\n",
    "    \"\"\"\n",
    "    Residual down sampling block for the encoder\n",
    "    \"\"\"\n",
    "    def __init__(self, channel_in, channel_out, scale=2):\n",
    "        super(ResDown, self).__init__()\n",
    "        \n",
    "        self.conv1 = nn.Conv2d(channel_in, channel_out//2, 3, 1, 1)\n",
    "        self.BN1 = nn.BatchNorm2d(channel_out//2)\n",
    "        self.conv2 = nn.Conv2d(channel_out//2, channel_out, 3, 1, 1)\n",
    "        self.BN2 = nn.BatchNorm2d(channel_out)\n",
    "        \n",
    "        self.conv3 = nn.Conv2d(channel_in, channel_out, 3, 1, 1)\n",
    "\n",
    "        self.AvePool = nn.AvgPool2d(scale, scale)\n",
    "        \n",
    "    def forward(self, x):\n",
    "        skip = self.conv3(self.AvePool(x))\n",
    "        \n",
    "        x = F.rrelu(self.BN1(self.conv1(x)))\n",
    "        x = self.AvePool(x)\n",
    "        x = self.BN2(self.conv2(x))\n",
    "        \n",
    "        x = F.rrelu(x + skip)\n",
    "        return x\n",
    "\n",
    "\n",
    "class ResUp(nn.Module):\n",
    "    \"\"\"\n",
    "    Residual up sampling block for the decoder\n",
    "    \"\"\"\n",
    "    def __init__(self, channel_in, channel_out, scale=2):\n",
    "        super(ResUp, self).__init__()\n",
    "        \n",
    "        self.conv1 = nn.Conv2d(channel_in, channel_out//2, 3, 1, 1)\n",
    "        self.BN1 = nn.BatchNorm2d(channel_out//2)\n",
    "        self.conv2 = nn.Conv2d(channel_out//2, channel_out, 3, 1, 1)\n",
    "        self.BN2 = nn.BatchNorm2d(channel_out)\n",
    "        \n",
    "        self.conv3 = nn.Conv2d(channel_in, channel_out, 3, 1, 1)\n",
    "        \n",
    "        self.UpNN = nn.Upsample(scale_factor = scale,mode = \"nearest\")\n",
    "        \n",
    "    def forward(self, x):\n",
    "        skip = self.conv3(self.UpNN(x))\n",
    "        \n",
    "        x = F.rrelu(self.BN1(self.conv1(x)))\n",
    "        x = self.UpNN(x)\n",
    "        x = self.BN2(self.conv2(x))\n",
    "        \n",
    "        x = F.rrelu(x + skip)\n",
    "        return x\n",
    "    \n",
    "\n",
    "class Encoder(nn.Module):\n",
    "    \"\"\"\n",
    "    Encoder block\n",
    "    Built for a 3x64x64 image and will result in a latent vector of size z x 1 x 1\n",
    "    As the network is fully convolutional it will work for images LARGER than 64\n",
    "    For images sized 64 * n where n is a power of 2, (1, 2, 4, 8 etc) the latent feature map size will be z x n x n\n",
    "    When in .eval() the Encoder will not sample from the distribution and will instead output mu as the encoding vector\n",
    "    and log_var will be None\n",
    "    \"\"\"\n",
    "    def __init__(self, channels, ch=64, z=512):\n",
    "        super(Encoder, self).__init__()\n",
    "        self.conv1 = ResDown(channels, ch)  # 64\n",
    "        self.conv2 = ResDown(ch, 2*ch)  # 32\n",
    "        self.conv3 = ResDown(2*ch, 4*ch)  # 16\n",
    "        self.conv4 = ResDown(4*ch, 8*ch)  # 8\n",
    "        self.conv5 = ResDown(8*ch, 8*ch)  # 4\n",
    "        self.conv_mu = nn.Conv2d(8*ch, z, 2, 2)  # 2\n",
    "        self.conv_log_var = nn.Conv2d(8*ch, z, 2, 2)  # 2\n",
    "\n",
    "    def sample(self, mu, log_var):\n",
    "        std = torch.exp(0.5*log_var)\n",
    "        eps = torch.randn_like(std)\n",
    "        return mu + eps*std\n",
    "        \n",
    "    def forward(self, x):\n",
    "        x = self.conv1(x)\n",
    "        x = self.conv2(x)\n",
    "        x = self.conv3(x)\n",
    "        x = self.conv4(x)\n",
    "        x = self.conv5(x)\n",
    "\n",
    "        if self.training:\n",
    "            mu = self.conv_mu(x)\n",
    "            log_var = self.conv_log_var(x)\n",
    "            x = self.sample(mu, log_var)\n",
    "        else:\n",
    "            mu = self.conv_mu(x)\n",
    "            x = mu\n",
    "            log_var = None\n",
    "\n",
    "        return x, mu, log_var\n",
    "\n",
    "\n",
    "class Decoder(nn.Module):\n",
    "    \"\"\"\n",
    "    Decoder block\n",
    "    Built to be a mirror of the encoder block\n",
    "    \"\"\"\n",
    "\n",
    "    def __init__(self, channels, ch=64, z=512):\n",
    "        super(Decoder, self).__init__()\n",
    "        self.conv1 = ResUp(z, ch*8)\n",
    "        self.conv2 = ResUp(ch*8, ch*8)\n",
    "        self.conv3 = ResUp(ch*8, ch*4)\n",
    "        self.conv4 = ResUp(ch*4, ch*2)\n",
    "        self.conv5 = ResUp(ch*2, ch)\n",
    "        self.conv6 = ResUp(ch, ch//2)\n",
    "        self.conv7 = nn.Conv2d(ch//2, channels, 3, 1, 1)\n",
    "\n",
    "    def forward(self, x):\n",
    "        x = self.conv1(x)\n",
    "        x = self.conv2(x)\n",
    "        x = self.conv3(x)\n",
    "        x = self.conv4(x)\n",
    "        x = self.conv5(x)\n",
    "        x = self.conv6(x)\n",
    "        x = self.conv7(x)\n",
    "\n",
    "        return x \n",
    "\n",
    "\n",
    "class VAE(nn.Module):\n",
    "    \"\"\"\n",
    "    VAE network, uses the above encoder and decoder blocks\n",
    "    \"\"\"\n",
    "    def __init__(self, channel_in, ch=64, z=512):\n",
    "        super(VAE, self).__init__()\n",
    "        \"\"\"Res VAE Network\n",
    "        channel_in  = number of channels of the image \n",
    "        z = the number of channels of the latent representation\n",
    "        (for a 64x64 image this is the size of the latent vector)\n",
    "        \"\"\"\n",
    "        \n",
    "        self.encoder = Encoder(channel_in, ch=ch, z=z)\n",
    "        self.decoder = Decoder(channel_in, ch=ch, z=z)\n",
    "\n",
    "    def forward(self, x):\n",
    "        encoding, mu, log_var = self.encoder(x)\n",
    "        recon = self.decoder(encoding)\n",
    "        return recon, mu, log_var"
   ]
  },
  {
   "cell_type": "code",
   "execution_count": 40,
   "metadata": {},
   "outputs": [],
   "source": [
    "class PongDataset(Dataset):\n",
    "    \"\"\"Face Landmarks dataset.\"\"\"\n",
    "\n",
    "    def __init__(self, root_dir, transform=None):\n",
    "        \"\"\"\n",
    "        Args:\n",
    "            csv_file (string): Path to the csv file with annotations.\n",
    "            root_dir (string): Directory with all the images.\n",
    "            transform (callable, optional): Optional transform to be applied\n",
    "                on a sample.\n",
    "        \"\"\"\n",
    "        self.root_dir = root_dir\n",
    "        self.transform = transform\n",
    "        self.image_list = os.listdir(root_dir)\n",
    "\n",
    "    def __len__(self):\n",
    "        return len(self.image_list)\n",
    "\n",
    "    def __getitem__(self, idx):\n",
    "        if torch.is_tensor(idx):\n",
    "            idx = idx.tolist()\n",
    "\n",
    "        img_name = os.path.join(self.root_dir,\n",
    "                                self.image_list[idx])\n",
    "        print(img_name)\n",
    "        image = io.imread(img_name)\n",
    "\n",
    "        if self.transform:\n",
    "            image = self.transform(image)\n",
    "\n",
    "        return image"
   ]
  },
  {
   "cell_type": "code",
   "execution_count": 41,
   "metadata": {},
   "outputs": [],
   "source": [
    "TRAIN_DATA_PATH = \"/home/yangzhekong/Documents/wimblepong_/dataset/train\"\n",
    "TEST_DATA_PATH = \"/home/yangzhekong/Documents/wimblepong_/dataset/test\"\n",
    "TRANSFORM_IMG = transforms.Compose([\n",
    "    transforms.ToTensor()\n",
    "    ])\n",
    "RESIZE = transforms.Resize([256, 256])\n",
    "\n",
    "train_data = PongDataset(root_dir=TRAIN_DATA_PATH, transform=TRANSFORM_IMG)\n",
    "test_data = PongDataset(root_dir=TEST_DATA_PATH, transform=TRANSFORM_IMG)"
   ]
  },
  {
   "cell_type": "code",
   "execution_count": 46,
   "metadata": {},
   "outputs": [
    {
     "name": "stdout",
     "output_type": "stream",
     "text": [
      "/home/yangzhekong/Documents/wimblepong_/dataset/test/5086.png\n"
     ]
    },
    {
     "data": {
      "text/plain": [
       "tensor([[[0.1294, 0.1294, 0.1294,  ..., 0.1294, 0.1294, 0.1294],\n",
       "         [0.1294, 0.1294, 0.1294,  ..., 0.1294, 0.1294, 0.1294],\n",
       "         [0.1294, 0.1294, 0.1294,  ..., 0.1294, 0.1294, 0.1294],\n",
       "         ...,\n",
       "         [0.1294, 0.1294, 0.1294,  ..., 0.1294, 0.1294, 0.1294],\n",
       "         [0.1294, 0.1294, 0.1294,  ..., 0.1294, 0.1294, 0.1294],\n",
       "         [0.1294, 0.1294, 0.1294,  ..., 0.1294, 0.1294, 0.1294]],\n",
       "\n",
       "        [[0.0039, 0.0039, 0.0039,  ..., 0.0039, 0.0039, 0.0039],\n",
       "         [0.0039, 0.0039, 0.0039,  ..., 0.0039, 0.0039, 0.0039],\n",
       "         [0.0039, 0.0039, 0.0039,  ..., 0.0039, 0.0039, 0.0039],\n",
       "         ...,\n",
       "         [0.0039, 0.0039, 0.0039,  ..., 0.0039, 0.0039, 0.0039],\n",
       "         [0.0039, 0.0039, 0.0039,  ..., 0.0039, 0.0039, 0.0039],\n",
       "         [0.0039, 0.0039, 0.0039,  ..., 0.0039, 0.0039, 0.0039]],\n",
       "\n",
       "        [[0.1412, 0.1412, 0.1412,  ..., 0.1412, 0.1412, 0.1412],\n",
       "         [0.1412, 0.1412, 0.1412,  ..., 0.1412, 0.1412, 0.1412],\n",
       "         [0.1412, 0.1412, 0.1412,  ..., 0.1412, 0.1412, 0.1412],\n",
       "         ...,\n",
       "         [0.1412, 0.1412, 0.1412,  ..., 0.1412, 0.1412, 0.1412],\n",
       "         [0.1412, 0.1412, 0.1412,  ..., 0.1412, 0.1412, 0.1412],\n",
       "         [0.1412, 0.1412, 0.1412,  ..., 0.1412, 0.1412, 0.1412]]])"
      ]
     },
     "execution_count": 46,
     "metadata": {},
     "output_type": "execute_result"
    }
   ],
   "source": [
    "test_data[100]"
   ]
  },
  {
   "cell_type": "code",
   "execution_count": 15,
   "metadata": {},
   "outputs": [
    {
     "data": {
      "text/plain": [
       "<All keys matched successfully>"
      ]
     },
     "execution_count": 15,
     "metadata": {},
     "output_type": "execute_result"
    }
   ],
   "source": [
    "vae = VAE(3, 32, 128)\n",
    "vae.load_state_dict(torch.load(\"/home/yangzhekong/Documents/wimblepong/models/vae_19.pkl\", map_location=torch.device(\"cpu\")))"
   ]
  },
  {
   "cell_type": "code",
   "execution_count": 21,
   "metadata": {},
   "outputs": [],
   "source": [
    "%matplotlib inline\n",
    "\n",
    "import matplotlib\n",
    "import numpy as np\n",
    "import matplotlib.pyplot as plt"
   ]
  },
  {
   "cell_type": "code",
   "execution_count": 48,
   "metadata": {},
   "outputs": [
    {
     "name": "stdout",
     "output_type": "stream",
     "text": [
      "/home/yangzhekong/Documents/wimblepong_/dataset/train/19403.png\n"
     ]
    },
    {
     "name": "stderr",
     "output_type": "stream",
     "text": [
      "Clipping input data to the valid range for imshow with RGB data ([0..1] for floats or [0..255] for integers).\n"
     ]
    },
    {
     "data": {
      "image/png": "[encoded data removed]",
      "text/plain": [
       "<Figure size 432x288 with 2 Axes>"
      ]
     },
     "metadata": {
      "needs_background": "light"
     },
     "output_type": "display_data"
    }
   ],
   "source": [
    "images = train_data[0]\n",
    "images = RESIZE(images)\n",
    "recon_images, mu, logvar = vae(images.unsqueeze(0))\n",
    "# io.imshow(recon_images.squeeze().permute(1, 2, 0).detach().numpy())\n",
    "fig, ax = plt.subplots(2, 1)\n",
    "ax[1].imshow(recon_images.squeeze().permute(1, 2, 0).detach().numpy())\n",
    "ax[0].imshow(images.squeeze().permute(1, 2, 0).detach().numpy())\n",
    "plt.show()"
   ]
  },
  {
   "cell_type": "code",
   "execution_count": 47,
   "metadata": {},
   "outputs": [
    {
     "name": "stderr",
     "output_type": "stream",
     "text": [
      "Clipping input data to the valid range for imshow with RGB data ([0..1] for floats or [0..255] for integers).\n"
     ]
    },
    {
     "name": "stdout",
     "output_type": "stream",
     "text": [
      "/home/yangzhekong/Documents/wimblepong_/dataset/train/23213.png\n"
     ]
    },
    {
     "data": {
      "image/png": "[encoded data removed]",
      "text/plain": [
       "<Figure size 432x288 with 2 Axes>"
      ]
     },
     "metadata": {
      "needs_background": "light"
     },
     "output_type": "display_data"
    }
   ],
   "source": [
    "images = train_data[1]\n",
    "images = RESIZE(images)\n",
    "recon_images, mu, logvar = vae(images.unsqueeze(0))\n",
    "# io.imshow(recon_images.squeeze().permute(1, 2, 0).detach().numpy())\n",
    "fig, ax = plt.subplots(2, 1)\n",
    "ax[1].imshow(recon_images.squeeze().permute(1, 2, 0).detach().numpy())\n",
    "ax[0].imshow(images.squeeze().permute(1, 2, 0).detach().numpy())\n",
    "plt.show()"
   ]
  },
  {
   "cell_type": "code",
   "execution_count": 49,
   "metadata": {},
   "outputs": [
    {
     "name": "stdout",
     "output_type": "stream",
     "text": [
      "/home/yangzhekong/Documents/wimblepong_/dataset/train/1111.png\n"
     ]
    },
    {
     "data": {
      "image/png": "[encoded data removed]",
      "text/plain": [
       "<Figure size 432x288 with 2 Axes>"
      ]
     },
     "metadata": {
      "needs_background": "light"
     },
     "output_type": "display_data"
    }
   ],
   "source": [
    "images = train_data[100]\n",
    "fig, ax = plt.subplots(2, 1)\n",
    "ax[1].imshow(images.squeeze().permute(1, 2, 0).detach().numpy())\n",
    "ax[0].imshow(images.squeeze().permute(1, 2, 0).detach().numpy())\n",
    "plt.show()"
   ]
  },
  {
   "cell_type": "code",
   "execution_count": 53,
   "metadata": {},
   "outputs": [
    {
     "name": "stderr",
     "output_type": "stream",
     "text": [
      "Clipping input data to the valid range for imshow with RGB data ([0..1] for floats or [0..255] for integers).\n"
     ]
    },
    {
     "name": "stdout",
     "output_type": "stream",
     "text": [
      "/home/yangzhekong/Documents/wimblepong_/dataset/train/1238.png\n"
     ]
    },
    {
     "data": {
      "image/png": "[encoded data removed]",
      "text/plain": [
       "<Figure size 432x288 with 2 Axes>"
      ]
     },
     "metadata": {
      "needs_background": "light"
     },
     "output_type": "display_data"
    }
   ],
   "source": [
    "images = train_data[103]\n",
    "images = RESIZE(images)\n",
    "recon_images, mu, logvar = vae(images.unsqueeze(0))\n",
    "# io.imshow(recon_images.squeeze().permute(1, 2, 0).detach().numpy())\n",
    "fig, ax = plt.subplots(2, 1)\n",
    "ax[1].imshow(recon_images.squeeze().permute(1, 2, 0).detach().numpy())\n",
    "ax[0].imshow(images.squeeze().permute(1, 2, 0).detach().numpy())\n",
    "plt.show()"
   ]
  }
 ],
 "metadata": {
  "kernelspec": {
   "display_name": "Python 3.10.4 ('gym')",
   "language": "python",
   "name": "python3"
  },
  "language_info": {
   "codemirror_mode": {
    "name": "ipython",
    "version": 3
   },
   "file_extension": ".py",
   "mimetype": "text/x-python",
   "name": "python",
   "nbconvert_exporter": "python",
   "pygments_lexer": "ipython3",
   "version": "3.10.4"
  },
  "orig_nbformat": 4,
  "vscode": {
   "interpreter": {
    "hash": "c596b473bde255c0750a17c641cbcecadacd5e06690a436f4591f783bb752e10"
   }
  }
 },
 "nbformat": 4,
 "nbformat_minor": 2
}
